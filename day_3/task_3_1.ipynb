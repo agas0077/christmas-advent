{
 "cells": [
  {
   "cell_type": "markdown",
   "metadata": {},
   "source": [
    "You and the Elf eventually reach a gondola lift station; he says the gondola lift will take you up to the water source, but this is as far as he can bring you. You go inside.\n",
    "\n",
    "It doesn't take long to find the gondolas, but there seems to be a problem: they're not moving.\n",
    "\n",
    "\"Aaah!\"\n",
    "\n",
    "You turn around to see a slightly-greasy Elf with a wrench and a look of surprise. \"Sorry, I wasn't expecting anyone! The gondola lift isn't working right now; it'll still be a while before I can fix it.\" You offer to help.\n",
    "\n",
    "The engineer explains that an engine part seems to be missing from the engine, but nobody can figure out which one. If you can add up all the part numbers in the engine schematic, it should be easy to work out which part is missing.\n",
    "\n",
    "The engine schematic (your puzzle input) consists of a visual representation of the engine. There are lots of numbers and symbols you don't really understand, but apparently any number adjacent to a symbol, even diagonally, is a \"part number\" and should be included in your sum. (Periods (.) do not count as a symbol.)\n",
    "\n",
    "Here is an example engine schematic:\n",
    "\n",
    "|     |\n",
    "| --- |\n",
    "467..114..\n",
    "..._......\n",
    "..35..633.\n",
    "......#...\n",
    "617_......\n",
    ".....+.58.\n",
    "..592.....\n",
    "......755.\n",
    "...$.\\*....\n",
    ".664.598..\n",
    "\n",
    "In this schematic, two numbers are not part numbers because they are not adjacent to a symbol: 114 (top right) and 58 (middle right). Every other number is adjacent to a symbol and so is a part number; their sum is 4361.\n",
    "\n",
    "Of course, the actual engine schematic is much larger. What is the sum of all of the part numbers in the engine schematic?\n"
   ]
  },
  {
   "cell_type": "code",
   "execution_count": 214,
   "metadata": {},
   "outputs": [
    {
     "name": "stdout",
     "output_type": "stream",
     "text": [
      "['828', '865', '395', '163', '381', '312', '34', '533', '291', '440', '488', '370']\n",
      "__________________________________________________________\n",
      "828 0 5\n",
      "....*...............*....727......613..#.....517..........-........*..............*.......................888.......*......*...*.........982 True ....*\n",
      ".828.865....395......163......................*......381............312....34...533..............................291.....440.488..370....... False .828.\n",
      ".................+............122.....598*....400....+......................+.=.......451........746*...............................*....... False .....\n",
      "True\n",
      "__________________________________________________________\n"
     ]
    },
    {
     "data": {
      "text/plain": [
       "539433"
      ]
     },
     "execution_count": 214,
     "metadata": {},
     "output_type": "execute_result"
    }
   ],
   "source": [
    "import re\n",
    "\n",
    "res = 0\n",
    "a = []\n",
    "\n",
    "\n",
    "with open(\"input.txt\") as file:\n",
    "    max_line_len = len(file.readline()) - 1\n",
    "\n",
    "\n",
    "with open(\"input.txt\") as file:\n",
    "    lines = [line.strip() for line in file.readlines()]\n",
    "\n",
    "\n",
    "for idx in range(0, len(lines)):\n",
    "    line = lines[idx]\n",
    "    numbers = re.findall(\"(?<=\\D)*\\d+(?=\\D)*\", line)\n",
    "    try:\n",
    "        next_line = lines[idx + 1]\n",
    "    except IndexError:\n",
    "        next_line = \".\" * max_line_len\n",
    "\n",
    "    if idx == 0:\n",
    "        previous_line = \".\" * max_line_len\n",
    "    else:\n",
    "        previous_line = lines[idx - 1]\n",
    "\n",
    "    end_index = 0\n",
    "\n",
    "    for number in numbers:\n",
    "        start_index, end_index = re.search(\n",
    "            f\"^{number}(?=[\\.\\D])|(?<=[\\.\\D]){number}$|(?<=[\\.\\D]){number}(?=[\\.\\D])\",\n",
    "            line,\n",
    "        ).span()\n",
    "        start_index = start_index if start_index == 0 else start_index - 1\n",
    "        end_index = end_index + 1 if end_index > 0 else end_index\n",
    "        previous_flag = re.search(\n",
    "            \"[^\\.\\d]\", previous_line[start_index:end_index]\n",
    "        )\n",
    "        current_flag = re.search(\"[^\\.\\d]\", line[start_index:end_index])\n",
    "        next_flag = re.search(\"[^\\.\\d]\", next_line[start_index:end_index])\n",
    "        flag = any([previous_flag, current_flag, next_flag])\n",
    "        if flag:\n",
    "            res += int(number)\n",
    "            a.append(int(number))\n",
    "            previous_line = previous_line[end_index - 1 :]\n",
    "            line = line[end_index - 1 :]\n",
    "            next_line = next_line[end_index - 1 :]\n",
    "\n",
    "res"
   ]
  }
 ],
 "metadata": {
  "kernelspec": {
   "display_name": "Python 3",
   "language": "python",
   "name": "python3"
  },
  "language_info": {
   "codemirror_mode": {
    "name": "ipython",
    "version": 3
   },
   "file_extension": ".py",
   "mimetype": "text/x-python",
   "name": "python",
   "nbconvert_exporter": "python",
   "pygments_lexer": "ipython3",
   "version": "3.11.3"
  }
 },
 "nbformat": 4,
 "nbformat_minor": 2
}
